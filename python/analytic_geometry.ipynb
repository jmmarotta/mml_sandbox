{
 "cells": [
  {
   "attachments": {},
   "cell_type": "markdown",
   "metadata": {},
   "source": [
    "Import all of the required packages"
   ]
  },
  {
   "cell_type": "code",
   "execution_count": 2,
   "metadata": {},
   "outputs": [],
   "source": [
    "import sympy as sy\n",
    "import numpy as np\n",
    "from numpy import linalg as LA\n",
    "import scipy as sp\n",
    "import math"
   ]
  },
  {
   "cell_type": "markdown",
   "metadata": {},
   "source": [
    "assign an array and try to bring it to reduced row echelon form"
   ]
  },
  {
   "cell_type": "code",
   "execution_count": 83,
   "metadata": {},
   "outputs": [
    {
     "name": "stdout",
     "output_type": "stream",
     "text": [
      "[[0. 1.]\n",
      " [1. 0.]]\n",
      "(Matrix([\n",
      "[1, 0],\n",
      "[0, 1]]), (0, 1))\n",
      "\n"
     ]
    }
   ],
   "source": [
    "a = np.array([[0, 1], [1, 0]], dtype=float)\n",
    "# a = np.array([[3, 1], [2, 2]], dtype=float)\n",
    "a_rref = sy.Matrix(a).rref()\n",
    "\n",
    "print(a)\n",
    "print(a_rref)\n",
    "print()\n",
    "\n",
    "v = np.array([1, -1], dtype=float)\n",
    "w = np.array([-1, 1], dtype=float)"
   ]
  },
  {
   "attachments": {},
   "cell_type": "markdown",
   "metadata": {},
   "source": [
    "# Inner Product"
   ]
  },
  {
   "cell_type": "code",
   "execution_count": 4,
   "metadata": {},
   "outputs": [
    {
     "name": "stdout",
     "output_type": "stream",
     "text": [
      "INNER\n",
      "17.0\n",
      "17.0\n",
      "\n"
     ]
    }
   ],
   "source": [
    "def inner(a, b):\n",
    "    return np.matmul(a, b.T)\n",
    "\n",
    "print(\"INNER\")\n",
    "print(inner(a[:, 0], a[:, 0]))\n",
    "print(np.dot(a[:, 0], a[:, 0]))\n",
    "print()"
   ]
  },
  {
   "attachments": {},
   "cell_type": "markdown",
   "metadata": {},
   "source": [
    "# Norm"
   ]
  },
  {
   "cell_type": "code",
   "execution_count": 5,
   "metadata": {},
   "outputs": [
    {
     "name": "stdout",
     "output_type": "stream",
     "text": [
      "NORM\n",
      "4.69041575982343\n",
      "4.69041575982343\n",
      "\n"
     ]
    }
   ],
   "source": [
    "def norm(a):\n",
    "    length = 0;\n",
    "    for col in a.T:\n",
    "        length += inner(col, col)\n",
    "    return math.sqrt(length)\n",
    "\n",
    "print(\"NORM\")\n",
    "print(norm(a))\n",
    "print(LA.norm(a))\n",
    "print()"
   ]
  },
  {
   "attachments": {},
   "cell_type": "markdown",
   "metadata": {},
   "source": [
    "# Angle and Orthogonality"
   ]
  },
  {
   "cell_type": "code",
   "execution_count": 6,
   "metadata": {},
   "outputs": [
    {
     "name": "stdout",
     "output_type": "stream",
     "text": [
      "-0.7592566023652966\n",
      "2.432966381462123\n",
      "139.39870535499554\n",
      "-0.9999999999999998\n",
      "3.1415926325163688\n",
      "179.99999879258172\n"
     ]
    },
    {
     "data": {
      "text/plain": [
       "179.99999879258172"
      ]
     },
     "execution_count": 6,
     "metadata": {},
     "output_type": "execute_result"
    }
   ],
   "source": [
    "def angle(a, b):\n",
    "  num = np.dot(a, b)\n",
    "  denom = LA.norm(a) * LA.norm(b)\n",
    "  print(num / denom)\n",
    "  print(np.arccos(num / denom))\n",
    "  print(math.degrees(np.arccos(num / denom)))\n",
    "  return math.degrees(np.arccos(num / denom))\n",
    "\n",
    "print(a)\n",
    "angle(a[:, 0], LA.inv(a)[:, 0])\n",
    "angle(v, w)"
   ]
  },
  {
   "attachments": {},
   "cell_type": "markdown",
   "metadata": {},
   "source": [
    "# Orthonormal Basis"
   ]
  },
  {
   "cell_type": "code",
   "execution_count": 48,
   "metadata": {},
   "outputs": [
    {
     "name": "stdout",
     "output_type": "stream",
     "text": [
      "[[0. 1.]\n",
      " [1. 0.]]\n",
      "[[0. 1.]\n",
      " [1. 0.]]\n",
      "[[ 0. -1.]\n",
      " [-1.  0.]]\n",
      "0.0\n",
      "0.0\n",
      "-1.0\n"
     ]
    }
   ],
   "source": [
    "# will not return the correct value. we need svd\n",
    "def ob(a):\n",
    "  left = np.matmul(a, a.T)\n",
    "  b = np.concatenate([left, a]).T\n",
    "  ob = sy.Matrix(b).rref()[0]\n",
    "  red = np.array(ob).astype(np.float64)\n",
    "  start = math.floor(red.shape[1]/2)\n",
    "  end = red.shape[1]\n",
    "  return red[:, start:end]\n",
    "\n",
    "print(a)\n",
    "print(ob(a))\n",
    "ob = sp.linalg.orth(a)\n",
    "print(ob)\n",
    "# orthogonal basis is 0 for all vectors except for the same column\n",
    "print(np.dot(a[:, 0], ob[:, 1]))\n",
    "print(np.dot(a[:, 1], ob[:, 0]))\n",
    "print(np.dot(a[:, 0], ob[:, 0]))\n"
   ]
  },
  {
   "attachments": {},
   "cell_type": "markdown",
   "metadata": {},
   "source": [
    "# Orthogonal Complement"
   ]
  },
  {
   "cell_type": "code",
   "execution_count": 95,
   "metadata": {},
   "outputs": [
    {
     "name": "stdout",
     "output_type": "stream",
     "text": [
      "[[1 2]\n",
      " [2 4]]\n",
      "[[-0.89442719]\n",
      " [ 0.4472136 ]]\n"
     ]
    }
   ],
   "source": [
    "# a = np.array([[1, -1], [2, 0]])\n",
    "a = np.array([[1, 2], [2, 4]])\n",
    "print(a.T)\n",
    "b = [0., 0.]\n",
    "print(sp.linalg.null_space(a))"
   ]
  }
 ],
 "metadata": {
  "kernelspec": {
   "display_name": ".venv",
   "language": "python",
   "name": "python3"
  },
  "language_info": {
   "codemirror_mode": {
    "name": "ipython",
    "version": 3
   },
   "file_extension": ".py",
   "mimetype": "text/x-python",
   "name": "python",
   "nbconvert_exporter": "python",
   "pygments_lexer": "ipython3",
   "version": "3.11.3"
  },
  "orig_nbformat": 4
 },
 "nbformat": 4,
 "nbformat_minor": 2
}
